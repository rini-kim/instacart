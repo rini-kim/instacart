{
 "cells": [
  {
   "cell_type": "markdown",
   "id": "bf2c3421",
   "metadata": {},
   "source": [
    "**Team 24:**\n",
    "\n",
    "Yuhan Pu (_ypu@ucdavis.edu_)\n",
    "\n",
    "Jungwon Yoon (_ojyoon@ucdavis.edu_)\n",
    "\n",
    "Yutang Xia (_yxxia@ucdavis.edu_)\n",
    "\n",
    "Renee Kim (_rmkim@ucdavis.edu_)"
   ]
  },
  {
   "cell_type": "markdown",
   "id": "da5bd15e",
   "metadata": {},
   "source": [
    "# Project Description and Background\n",
    "\n",
    "Over the past few years online delivery services have seen a surge in popularity throughout the United States. In particular, grocery delivery services such as _Instacart_ have made it easier than ever for people to conveniently shop for groceries without leaving the house. This transition to alternative shopping methods allows for a greater potential to create more efficient and more personalized shopping experiences. Due to the online nature of services like _Instacart_, we have at our hands an abundance of data that can be used to better understand shoppers. \n",
    "\n",
    "In this project, we aim to build a preditive model of goods purchased on _Instacart_ based off an individual's past purchasing history. In doing so, we aim to better understand household preferences and identify trends between buying patterns in order to better predict future buying behaviors.\n",
    "\n",
    "By being able to predict what purchases a household may make, _Instacart_ will be more able to produce more accurate and tailored results for each user. This can include product recommendations and notifications of discounts and sales that each individual may be interested in. In this day and age, many sites and apps are able to display relevant advertisements and products based on an individual's preferences and we aim to create a similarly personalized experience for _Instacart_ users. "
   ]
  },
  {
   "cell_type": "markdown",
   "id": "fd0c4445",
   "metadata": {},
   "source": [
    "# Data Background\n",
    "\n",
    "The datasets to be used can be found [here](https://www.kaggle.com/c/instacart-market-basket-analysis/data) and is an open-sourced release of 3 million _Instacart_ orders made public in May of 2017. The link features 6 csv files: `aisles.csv`, `departments.csv`, `order_products_prior.csv`, `order_products_train.csv`, `orders.csv`, and `products.csv`. Each category of customer, product, order, department, and aisle has a unique ID. Thus, the following appleis:\n",
    "\n",
    "`aisles.csv`: contains 134 unique ID number associated with each aisle (ie. specialty cheese, prepared soups salads)\n",
    "\n",
    "`departments.csv`: contains 21 unique ID number associated with each department (ie. frozen, bakery)\n",
    "\n",
    "`order_products__prior.csv`: describes ~3.2 million previous order contents for all customers and contains the unique ID number associated with each customer and product, the order that products were added to the cart, and whether a product is being re-ordered by that customer\n",
    "\n",
    "`order_products__train.csv`: the testing dataset to be used on our model; describes ~131,000 order contents for customers and is formatted similarly to the prior dataset\n",
    "\n",
    "`orders.csv`: contains the unique ID number associated with an order and indicates whether it belongs to the prior or train group\n",
    "\n",
    "`products.csv`: contains the unique ID number associated with a specific product, the associated aisle number, and the department ID\n",
    "\n"
   ]
  },
  {
   "cell_type": "markdown",
   "id": "81cd92a5",
   "metadata": {},
   "source": [
    "# Topics of Interest\n",
    "\n",
    "### Predictive Model\n",
    "i. Build a predictive model for future purchases based on previous purchase history\n",
    "\n",
    "ii. Analyze customer behavior and categorize them based on purchasing behavior\n",
    "\n",
    "### Buying Patterns\n",
    "i. Determine peak buying times (time of day, day of week)\n",
    "\n",
    "ii. Quantify average items purchased per order, average orders per household\n",
    "\n",
    "iii. Identify most purchased/re-purchased items based on category/aisle"
   ]
  },
  {
   "cell_type": "markdown",
   "id": "f436b3c1",
   "metadata": {},
   "source": [
    "# Challenges\n",
    "\n",
    "i. Due to having multiple datasets, we must find a way to combine the relevant information into a more usable format that can then be used in our analysis. In order to do so, we must combine information based on relevant categories and ID codes. \n",
    "\n",
    "ii. In order to build a predictive model, we must use machine-learning techniques not covered in this class. We will use knowledge from other classes (namely STA 142A) in order to explore various pyton packages and machine learning methodologies to find the best predictive model.\n",
    "\n",
    "iii. Because we have a very large and diverse dataset, we will need to use data visualization techniques not covered in this class in order to display our results in a clear and concise manner. "
   ]
  }
 ],
 "metadata": {
  "kernelspec": {
   "display_name": "Python 3 (ipykernel)",
   "language": "python",
   "name": "python3"
  },
  "language_info": {
   "codemirror_mode": {
    "name": "ipython",
    "version": 3
   },
   "file_extension": ".py",
   "mimetype": "text/x-python",
   "name": "python",
   "nbconvert_exporter": "python",
   "pygments_lexer": "ipython3",
   "version": "3.9.5"
  }
 },
 "nbformat": 4,
 "nbformat_minor": 5
}
